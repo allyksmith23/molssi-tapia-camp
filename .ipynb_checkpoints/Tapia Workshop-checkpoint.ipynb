{
 "cells": [
  {
   "cell_type": "markdown",
   "metadata": {},
   "source": [
    "## MolSSI Tapia Camp Workshop"
   ]
  },
  {
   "cell_type": "code",
   "execution_count": 2,
   "metadata": {},
   "outputs": [
    {
     "name": "stdout",
     "output_type": "stream",
     "text": [
      "-3640.7000000000003\n"
     ]
    }
   ],
   "source": [
    "deltaH = -541.5   #kJ/mole\n",
    "deltaS = 10.4     #kJ/(mol K)\n",
    "temp = 298        #Kelvin\n",
    "deltaG = deltaH - temp*deltaS\n",
    "print(deltaG)"
   ]
  },
  {
   "cell_type": "code",
   "execution_count": 3,
   "metadata": {},
   "outputs": [
    {
     "name": "stdout",
     "output_type": "stream",
     "text": [
      "-3640.7000000000003\n"
     ]
    }
   ],
   "source": [
    "deltaG*1000\n",
    "print(deltaG)"
   ]
  },
  {
   "cell_type": "code",
   "execution_count": 5,
   "metadata": {},
   "outputs": [
    {
     "name": "stdout",
     "output_type": "stream",
     "text": [
      "-3640.7000000000003\n",
      "-3640700.0000000005\n"
     ]
    }
   ],
   "source": [
    "deltaG_J = deltaG*1000\n",
    "print(deltaG)\n",
    "print(deltaG_J)"
   ]
  },
  {
   "cell_type": "code",
   "execution_count": 12,
   "metadata": {},
   "outputs": [
    {
     "name": "stdout",
     "output_type": "stream",
     "text": [
      "-3640.7000000000003\n"
     ]
    }
   ],
   "source": [
    "deltaH, deltaS, temp = -541.5, 10.4, 298\n",
    "deltaG = deltaH - temp*deltaS\n",
    "print(deltaG)"
   ]
  },
  {
   "cell_type": "code",
   "execution_count": 11,
   "metadata": {},
   "outputs": [
    {
     "name": "stdout",
     "output_type": "stream",
     "text": [
      "-3640.7000000000003\n"
     ]
    }
   ],
   "source": [
    "deltaH, deltaS, temp = -541.5, 10.4, 298   #kJ, kJ/mol K, Kelvin\n",
    "deltaG = deltaH - temp*deltaS\n",
    "print(deltaG)"
   ]
  },
  {
   "cell_type": "code",
   "execution_count": 13,
   "metadata": {},
   "outputs": [
    {
     "data": {
      "text/plain": [
       "float"
      ]
     },
     "execution_count": 13,
     "metadata": {},
     "output_type": "execute_result"
    }
   ],
   "source": [
    "type(deltaG)"
   ]
  },
  {
   "cell_type": "code",
   "execution_count": 15,
   "metadata": {},
   "outputs": [
    {
     "data": {
      "text/plain": [
       "str"
      ]
     },
     "execution_count": 15,
     "metadata": {},
     "output_type": "execute_result"
    }
   ],
   "source": [
    "deltaG_string = str(deltaG)\n",
    "type(deltaG_string)"
   ]
  },
  {
   "cell_type": "code",
   "execution_count": 18,
   "metadata": {},
   "outputs": [
    {
     "name": "stdout",
     "output_type": "stream",
     "text": [
      "4\n"
     ]
    }
   ],
   "source": [
    "energy_kcal = [-13.4, -2.7, 5.4, 42.1]\n",
    "energy_length = len(energy_kcal)\n",
    "print(energy_length)"
   ]
  },
  {
   "cell_type": "code",
   "execution_count": 19,
   "metadata": {},
   "outputs": [
    {
     "name": "stdout",
     "output_type": "stream",
     "text": [
      "5.4\n"
     ]
    }
   ],
   "source": [
    "print(energy_kcal[2])"
   ]
  },
  {
   "cell_type": "code",
   "execution_count": 21,
   "metadata": {},
   "outputs": [
    {
     "name": "stdout",
     "output_type": "stream",
     "text": [
      "[-13.4, -2.7]\n"
     ]
    }
   ],
   "source": [
    "#new_list = list_name[start:end]\n",
    "short_list = energy_kcal[0:2]\n",
    "print(short_list)"
   ]
  },
  {
   "cell_type": "code",
   "execution_count": 23,
   "metadata": {},
   "outputs": [
    {
     "name": "stdout",
     "output_type": "stream",
     "text": [
      "[-2.7, 5.4, 42.1]\n",
      "[-13.4, -2.7, 5.4]\n"
     ]
    }
   ],
   "source": [
    "slice1 = energy_kcal[1:]\n",
    "slice2 = energy_kcal[:3]\n",
    "print(slice1)\n",
    "print(slice2)"
   ]
  },
  {
   "cell_type": "code",
   "execution_count": 27,
   "metadata": {},
   "outputs": [],
   "source": [
    "energy_kJ = []\n",
    "for number in energy_kcal:\n",
    "    kJ = number*4.184\n",
    "    energy_kJ.append(kJ)"
   ]
  },
  {
   "cell_type": "code",
   "execution_count": 28,
   "metadata": {},
   "outputs": [
    {
     "name": "stdout",
     "output_type": "stream",
     "text": [
      "[-56.0656, -11.296800000000001, 22.593600000000002, 176.1464]\n"
     ]
    }
   ],
   "source": [
    "print(energy_kJ)"
   ]
  },
  {
   "cell_type": "code",
   "execution_count": 35,
   "metadata": {},
   "outputs": [
    {
     "name": "stdout",
     "output_type": "stream",
     "text": [
      "[-13.4, -2.7]\n",
      "[5.4, 42.1]\n"
     ]
    }
   ],
   "source": [
    "negatives = []\n",
    "positives = []\n",
    "for number in energy_kcal:\n",
    "    if number<0:\n",
    "        negatives.append(number)\n",
    "    else: \n",
    "        positives.append(number)\n",
    "\n",
    "print(negatives)\n",
    "print(positives)"
   ]
  },
  {
   "cell_type": "code",
   "execution_count": null,
   "metadata": {},
   "outputs": [],
   "source": []
  }
 ],
 "metadata": {
  "kernelspec": {
   "display_name": "Python 3",
   "language": "python",
   "name": "python3"
  },
  "language_info": {
   "codemirror_mode": {
    "name": "ipython",
    "version": 3
   },
   "file_extension": ".py",
   "mimetype": "text/x-python",
   "name": "python",
   "nbconvert_exporter": "python",
   "pygments_lexer": "ipython3",
   "version": "3.7.3"
  }
 },
 "nbformat": 4,
 "nbformat_minor": 2
}
