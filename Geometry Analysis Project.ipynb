{
 "cells": [
  {
   "cell_type": "markdown",
   "metadata": {},
   "source": [
    "# Geometry Analysis Project"
   ]
  },
  {
   "cell_type": "code",
   "execution_count": 1,
   "metadata": {},
   "outputs": [],
   "source": [
    "import os\n",
    "import numpy"
   ]
  },
  {
   "cell_type": "code",
   "execution_count": 2,
   "metadata": {},
   "outputs": [
    {
     "data": {
      "text/plain": [
       "'C:\\\\Users\\\\Ally Smith\\\\Desktop\\\\cms-workshop\\\\data\\\\data'"
      ]
     },
     "execution_count": 2,
     "metadata": {},
     "output_type": "execute_result"
    }
   ],
   "source": [
    "pwd"
   ]
  },
  {
   "cell_type": "code",
   "execution_count": 8,
   "metadata": {},
   "outputs": [
    {
     "name": "stdout",
     "output_type": "stream",
     "text": [
      "O to O : 0.0\n",
      "O to H1 : 0.9690005374652793\n",
      "O to H2 : 0.9690003348647513\n",
      "H1 to O : 0.9690005374652793\n",
      "H1 to H1 : 0.0\n",
      "H1 to H2 : 1.52693633514957\n",
      "H2 to O : 0.9690003348647513\n",
      "H2 to H1 : 1.52693633514957\n",
      "H2 to H2 : 0.0\n"
     ]
    }
   ],
   "source": [
    "file_location = os.path.join('water.xyz')\n",
    "xyz_file = numpy.genfromtxt(fname=file_location, skip_header=2, dtype='unicode')\n",
    "symbols = xyz_file[:,0]\n",
    "coordinates = xyz_file[:,1:]\n",
    "coordinates = coordinates.astype(numpy.float)\n",
    "num_atoms = len(symbols)\n",
    "for num1 in range(0,num_atoms):\n",
    "    for num2 in range(0,num_atoms):  #in distance formula, x2 and x1 are in same eqn so we need a for loop w/in a for loop\n",
    "        x_distance = coordinates[num1,0]-coordinates[num2,0]\n",
    "        y_distance = coordinates[num1,1]-coordinates[num2,1]\n",
    "        z_distance = coordinates[num1,2]-coordinates[num2,2]\n",
    "        distance_12 = numpy.sqrt(x_distance**2 + y_distance**2 + z_distance**2)  #distance formula\n",
    "        print(F'{symbols[num1]} to {symbols[num2]} : {distance_12}')\n",
    "#this can be improved by removing self distances (i.e. O to O) and removing repeats (i.e. O to H1 and H1 to O)"
   ]
  },
  {
   "cell_type": "code",
   "execution_count": 9,
   "metadata": {},
   "outputs": [
    {
     "name": "stdout",
     "output_type": "stream",
     "text": [
      "H1 to O : 0.9690005374652793\n",
      "H2 to O : 0.9690003348647513\n",
      "H2 to H1 : 1.52693633514957\n"
     ]
    }
   ],
   "source": [
    "file_location = os.path.join('water.xyz')\n",
    "xyz_file = numpy.genfromtxt(fname=file_location, skip_header=2, dtype='unicode')\n",
    "symbols = xyz_file[:,0]\n",
    "coordinates = xyz_file[:,1:]\n",
    "coordinates = coordinates.astype(numpy.float)\n",
    "num_atoms = len(symbols)\n",
    "for num1 in range(0,num_atoms):\n",
    "    for num2 in range(0,num_atoms):  \n",
    "        if num1>num2:   #this step removes self-distances and repeats\n",
    "            x_distance = coordinates[num1,0]-coordinates[num2,0]\n",
    "            y_distance = coordinates[num1,1]-coordinates[num2,1]\n",
    "            z_distance = coordinates[num1,2]-coordinates[num2,2]\n",
    "            distance_12 = numpy.sqrt(x_distance**2 + y_distance**2 + z_distance**2) \n",
    "            print(F'{symbols[num1]} to {symbols[num2]} : {distance_12}')\n",
    "#no bond b/w H2 and H1, dont need distance  "
   ]
  },
  {
   "cell_type": "code",
   "execution_count": 22,
   "metadata": {},
   "outputs": [
    {
     "name": "stdout",
     "output_type": "stream",
     "text": [
      "<H1 to O : 0.969\n",
      "<H2 to O : 0.969\n"
     ]
    }
   ],
   "source": [
    "file_location = os.path.join('water.xyz')\n",
    "xyz_file = numpy.genfromtxt(fname=file_location, skip_header=2, dtype='unicode')\n",
    "symbols = xyz_file[:,0]\n",
    "coordinates = xyz_file[:,1:]\n",
    "coordinates = coordinates.astype(numpy.float)\n",
    "num_atoms = len(symbols)\n",
    "for num1 in range(0,num_atoms):\n",
    "    for num2 in range(0,num_atoms):  \n",
    "        if num1>num2:\n",
    "            x_distance = coordinates[num1,0]-coordinates[num2,0]\n",
    "            y_distance = coordinates[num1,1]-coordinates[num2,1]\n",
    "            z_distance = coordinates[num1,2]-coordinates[num2,2]\n",
    "            distance_12 = numpy.sqrt(x_distance**2 + y_distance**2 + z_distance**2) \n",
    "            if distance_12<1.5:   #removes H2/H1 bond; need statement after prev cmd, otherwise distance_12 undefined\n",
    "                print(F'<{symbols[num1]} to {symbols[num2]} : {distance_12:.3f}')"
   ]
  },
  {
   "cell_type": "code",
   "execution_count": 24,
   "metadata": {},
   "outputs": [],
   "source": [
    "#def function_name(parameters):\n",
    "#    *** code goes ***\n",
    "#    return value_to_return"
   ]
  },
  {
   "cell_type": "code",
   "execution_count": 36,
   "metadata": {},
   "outputs": [],
   "source": [
    "def calculate_distance(coords1, coords2):\n",
    "    \"\"\" \n",
    "    This function has two arguments, the coordinates of two atoms. It returns the distance between atoms.\n",
    "    \"\"\"\n",
    "    #above notation is docstring\n",
    "    x_distance = coords1[0] - coords2[0]\n",
    "    y_distance = coords1[1] - coords2[1]\n",
    "    z_distance = coords1[2] - coords2[2]\n",
    "    distance_12 = numpy.sqrt(x_distance**2 + y_distance**2 + z_distance**2)\n",
    "    return distance_12"
   ]
  },
  {
   "cell_type": "code",
   "execution_count": 69,
   "metadata": {},
   "outputs": [],
   "source": [
    "def bond_check(distance,minimum,maximum):  #to create a default, set minimum=#, maximum=#; user may specify for different value\n",
    "    \"\"\"\n",
    "    Checks a distance to determine if it is a bond. User specifies minimum and maximum values for bond\n",
    "    \"\"\"\n",
    "    if minimum<distance<maximum:\n",
    "        return True\n",
    "    else:\n",
    "        return False"
   ]
  },
  {
   "cell_type": "code",
   "execution_count": 68,
   "metadata": {},
   "outputs": [
    {
     "name": "stdout",
     "output_type": "stream",
     "text": [
      "<H1 to O : 0.969\n",
      "<H2 to O : 0.969\n"
     ]
    }
   ],
   "source": [
    "file_location = os.path.join('water.xyz')\n",
    "xyz_file = numpy.genfromtxt(fname=file_location, skip_header=2, dtype='unicode')\n",
    "symbols = xyz_file[:,0]\n",
    "coordinates = xyz_file[:,1:]\n",
    "coordinates = coordinates.astype(numpy.float)\n",
    "num_atoms = len(symbols)\n",
    "for num1 in range(0,num_atoms):\n",
    "    for num2 in range(0,num_atoms):  \n",
    "        if num1>num2:\n",
    "            distance_12 = calculate_distance(coordinates[num1], coordinates[num2]) \n",
    "            if bond_check(distance_12,0,1.5) is True:\n",
    "                print(F'<{symbols[num1]} to {symbols[num2]} : {distance_12:.3f}')"
   ]
  },
  {
   "cell_type": "code",
   "execution_count": 70,
   "metadata": {},
   "outputs": [
    {
     "name": "stdout",
     "output_type": "stream",
     "text": [
      "Help on function calculate_distance in module __main__:\n",
      "\n",
      "calculate_distance(coords1, coords2)\n",
      "    This function has two arguments, the coordinates of two atoms. It returns the distance between atoms.\n",
      "\n"
     ]
    }
   ],
   "source": [
    "help(calculate_distance)"
   ]
  },
  {
   "cell_type": "code",
   "execution_count": null,
   "metadata": {},
   "outputs": [],
   "source": []
  }
 ],
 "metadata": {
  "kernelspec": {
   "display_name": "Python 3",
   "language": "python",
   "name": "python3"
  },
  "language_info": {
   "codemirror_mode": {
    "name": "ipython",
    "version": 3
   },
   "file_extension": ".py",
   "mimetype": "text/x-python",
   "name": "python",
   "nbconvert_exporter": "python",
   "pygments_lexer": "ipython3",
   "version": "3.7.3"
  }
 },
 "nbformat": 4,
 "nbformat_minor": 2
}
